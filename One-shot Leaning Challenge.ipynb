{
 "cells": [
  {
   "cell_type": "markdown",
   "metadata": {},
   "source": [
    "  # One-shot Leaning Challenge\n",
    "  \n",
    "  In this notebook I will present an analysis of the challenge and a proposed selution. \n",
    "  My path towards this solution concise of these steps:\n",
    "  1) Reading literature\\blog posts\\etc. ralated to the data set, some proposed solutions and particularly on the meta-learning algorithm I will use MAML. \n",
    "  2) Practicaly playing with the data, understanding the input and ways to augment it if needed. \n",
    "  3) Writing Psaudo-code for the model architecture\n",
    "  4) Desciding on the aproprate processing and comparing methods\n",
    "  5) Writing all the helper functions for the MAML model\n",
    "  6) Building it all together\n",
    "  "
   ]
  },
  {
   "cell_type": "markdown",
   "metadata": {},
   "source": [
    "# One-shot 20-way peoblem statement:\n",
    "\"One-shot classification was evaluated through\n",
    "a series of within-alphabet classification tasks for\n",
    "10 different alphabets. As illustrated in Fig. 1B, i,\n",
    "a single image of a new character was presented,\n",
    "and participants selected another example of that\n",
    "same character from a set of 20 distinct characters\n",
    "produced by a typical drawer of that alphabet.\"\n",
    "The data set will be constructed to test this model. Batches build from a train set of one alphabet (x_i) and its classification, followed by 19 randomly chosen alphabets (which are not x) plus a different representation of x (x_j where i not = j). \n",
    "I follow the experimental protocol proposed by Vinyals et al. (2016), \"The N-way Omniglot task setup is as follows: pick N unseen character classes, independent of alphabet, as L. Provide the model with one drawing of each of the N characters as S ~ L and a batch B ~ L.\"\n",
    "\n",
    "\n"
   ]
  },
  {
   "cell_type": "code",
   "execution_count": 150,
   "metadata": {},
   "outputs": [],
   "source": [
    "import numpy as np\n",
    "import pandas as pd\n",
    "from skimage.transform import rescale, resize, downscale_local_mean\n",
    "from collections import OrderedDict\n",
    "\n",
    "import imageio\n",
    "import random\n",
    "import os\n",
    "import cv2\n",
    "import pandas as pd\n",
    "import matplotlib.pyplot as plt\n",
    "from scipy.misc import imread\n",
    "import random\n",
    "\n",
    "import torch\n",
    "import torch.nn as nn\n",
    "import torchvision.transforms as transforms\n",
    "import torchvision.datasets as datasets\n",
    "import torch.nn.functional as F\n",
    "import torch.optim as optim\n",
    "\n"
   ]
  },
  {
   "cell_type": "code",
   "execution_count": 148,
   "metadata": {},
   "outputs": [],
   "source": [
    "transformations = transforms.Compose([\n",
    "    transforms.Resize(255),\n",
    "    transforms.CenterCrop(224),\n",
    "    transforms.ToTensor(),\n",
    "    transforms.Normalize(mean=[0.485, 0.456, 0.406], std=[0.229, 0.224, 0.225])\n",
    "])"
   ]
  },
  {
   "cell_type": "code",
   "execution_count": 133,
   "metadata": {},
   "outputs": [],
   "source": [
    "#Loads images\n",
    "data_path = \"Documents\\challenge\\Omniglot\"\n",
    "train_path = os.path.join(data_path, 'images_background')\n",
    "eval_path = os.path.join(data_path, 'images_evaluation')\n",
    "\n",
    "def load_images(path):\n",
    "    '''\n",
    "    \n",
    "    Input: path of the folders where the data sets are stored\n",
    "    \n",
    "    Return:\n",
    "    X = A list of the images extracted from the data sets folders, the size list matrix will be: \n",
    "    (number of letters in the eval/training set) X (number of examples of each letter) X (pixel width) X (pixel height)\n",
    "    \n",
    "    indexed_alphabets = holds the names and letters number in a seperate list\n",
    "    \n",
    "    '''\n",
    "    X = []\n",
    "    \n",
    "    indexed_alphabets = [] # to hold the name of the alphabet and character number\n",
    "    \n",
    "    # Going over the alphabets\n",
    "    for alphabet in os.listdir(path) :\n",
    "        #print (\"loading alphabet: \" + alphabet)\n",
    "        alphabet_path = os.path.join(path, alphabet)\n",
    "        \n",
    "        #Going over the letters in the same category \n",
    "        \n",
    "        for letter in os.listdir(alphabet_path):\n",
    "                catagory_images = []\n",
    "                letter_path = os.path.join(alphabet_path, letter)\n",
    "                \n",
    "                if not os.path.isdir(letter_path):\n",
    "                    continue\n",
    "                \n",
    "                # Going over the examples\n",
    "                for example in os.listdir(letter_path):\n",
    "                    image_path = os.path.join(letter_path,example)\n",
    "                    image = imageio.imread(image_path)\n",
    "                        \n",
    "                    ## normalize the images\n",
    "                    image = (image - image.mean()) / image.std()\n",
    "                    \n",
    "                        \n",
    "                    catagory_images.append(image)\n",
    "                        \n",
    "                try:\n",
    "                    X.append(np.stack(catagory_images))\n",
    "                    indexed_alphabets.append([alphabet, letter])\n",
    "                except ValueError as e:\n",
    "                    print(e)\n",
    "                    print(\"error - category_images:\", catagory_images)\n",
    "                    \n",
    "    \n",
    "    return X, indexed_alphabets\n",
    "\n",
    "\n",
    "\n"
   ]
  },
  {
   "cell_type": "code",
   "execution_count": 213,
   "metadata": {},
   "outputs": [],
   "source": [
    "train_set, train_index = load_images(train_path)\n",
    "eval_set, eval_index = load_images(eval_path)\n"
   ]
  },
  {
   "cell_type": "code",
   "execution_count": 199,
   "metadata": {},
   "outputs": [
    {
     "name": "stdout",
     "output_type": "stream",
     "text": [
      "train_set shape is:  (964, 20, 105, 105)\n",
      "train_index shape is:  (964, 2)\n",
      "eval_set shape is:  (659, 20, 105, 105)\n",
      "eval_index shape is:  (659, 2)\n",
      "Each image is of size:  105 X 105\n"
     ]
    }
   ],
   "source": [
    "print(\"train_set shape is: \", np.shape(train_set))\n",
    "print(\"train_index shape is: \", np.shape(train_index))\n",
    "print(\"eval_set shape is: \", np.shape(eval_set))\n",
    "print(\"eval_index shape is: \", np.shape(eval_index))\n",
    "print(\"Each image is of size: \", np.shape(train_set)[2], \"X\" , np.shape(train_set)[3] )\n",
    "\n"
   ]
  },
  {
   "cell_type": "code",
   "execution_count": 129,
   "metadata": {},
   "outputs": [
    {
     "name": "stdout",
     "output_type": "stream",
     "text": [
      "torch.Size([105, 105])\n"
     ]
    },
    {
     "data": {
      "text/plain": [
       "<matplotlib.image.AxesImage at 0x2633e43a588>"
      ]
     },
     "execution_count": 129,
     "metadata": {},
     "output_type": "execute_result"
    },
    {
     "data": {
      "image/png": "[encoded data removed]",
      "text/plain": [
       "<Figure size 432x288 with 1 Axes>"
      ]
     },
     "metadata": {
      "needs_background": "light"
     },
     "output_type": "display_data"
    }
   ],
   "source": [
    "print(np.shape(train_set[9][9]))\n",
    "\n",
    "plt.imshow(train_set[9][9])\n",
    "#A = torch.from_numpy(train_set[9][9])\n",
    "#print(type(A))"
   ]
  },
  {
   "cell_type": "code",
   "execution_count": 112,
   "metadata": {},
   "outputs": [
    {
     "name": "stdout",
     "output_type": "stream",
     "text": [
      "Images of random charecters from the data set\n"
     ]
    },
    {
     "data": {
      "image/png": "[encoded data removed]",
      "text/plain": [
       "<Figure size 432x288 with 6 Axes>"
      ]
     },
     "metadata": {
      "needs_background": "light"
     },
     "output_type": "display_data"
    }
   ],
   "source": [
    "# Lets see random images of latters \n",
    "plt.subplots_adjust(left=5, bottom=5, right=6.5, top=6.5, wspace=None, hspace=None)\n",
    "for i in range(1, 7):\n",
    "    ax = plt.subplot(2, 3, i )\n",
    "    t = random.randrange(np.shape(train_set)[0])\n",
    "    r = random.randrange(20)\n",
    "    ax.set_title(train_index[t])\n",
    "    plt.imshow(train_set[t][r])\n",
    "print(\"Images of random charecters from the data set\")"
   ]
  },
  {
   "cell_type": "code",
   "execution_count": 113,
   "metadata": {},
   "outputs": [
    {
     "name": "stdout",
     "output_type": "stream",
     "text": [
      "Images of different charecters of the same alphabet\n"
     ]
    },
    {
     "data": {
      "image/png": "[encoded data removed]",
      "text/plain": [
       "<Figure size 432x288 with 6 Axes>"
      ]
     },
     "metadata": {
      "needs_background": "light"
     },
     "output_type": "display_data"
    }
   ],
   "source": [
    "# Lets see images of different charecters from the same alphabet  \n",
    "plt.subplots_adjust(left=5, bottom=5, right=6.5, top=6.5, wspace=None, hspace=None)\n",
    "t = 167\n",
    "for i in range(1, 7):\n",
    "    ax = plt.subplot(2, 3, i ) \n",
    "    r = 1\n",
    "    ax.set_title(train_index[t+i])\n",
    "    plt.imshow(train_set[t+i][r])\n",
    "print(\"Images of different charecters of the same alphabet\")"
   ]
  },
  {
   "cell_type": "code",
   "execution_count": 114,
   "metadata": {},
   "outputs": [
    {
     "name": "stdout",
     "output_type": "stream",
     "text": [
      "Images of different examples of the same charecter\n"
     ]
    },
    {
     "data": {
      "image/png": "[encoded data removed]",
      "text/plain": [
       "<Figure size 432x288 with 6 Axes>"
      ]
     },
     "metadata": {
      "needs_background": "light"
     },
     "output_type": "display_data"
    }
   ],
   "source": [
    "# Lets see images of different examples of same charecter  \n",
    "plt.subplots_adjust(left=5, bottom=5, right=6.5, top=6.5, wspace=None, hspace=None)\n",
    "t = random.randrange(np.shape(train_set)[0])\n",
    "for i in range(1, 7):\n",
    "    ax = plt.subplot(2, 3, i ) \n",
    "    r = random.randrange(20)\n",
    "    ax.set_title(train_index[t])\n",
    "    plt.imshow(train_set[t][r])\n",
    "print(\"Images of different examples of the same charecter\")"
   ]
  },
  {
   "cell_type": "markdown",
   "metadata": {},
   "source": [
    "# The data set - \n",
    "\n",
    "* muiltiple examples of 1623 handwritten charecters from 50 alphabets in grayscale.\n",
    "* All images are 105X105 in size\n",
    "* Both images and pen strokes were collected\n",
    "In the MAML paper and in other meta-learning sources, while working on the few-shot classification challenge they used only the images and neglected the pan strokes (unlike the original paper which did include it in the training phase), I belive that incorporating the pan stokes could prove to be usefull as some writen languages have distinct writen patterns. For example Hebrew and Arabic are writen from right to left, Sanskrit latter are finished with a line above them at the end of the stroke, these charectristicts would be distinct in the pan stroke. Due to lack of time I did not put this to the test, but it could be a good foloup on this challenge.\n",
    "\n",
    "From going over a few sets of examples I understend the following:\n",
    "* Some alphabets have distinct charectaristics such as straight lines (as in Sanskrit), dots (as in Arcadian), distinct wigle marks (as in the Balinese). All of these can help group charecters from same alphabe. \n",
    "* On the other hand, in between most alphabets I did not enquanter a rebust difference that so on a second look I could guess that this is X rather then Y. With this being said, due to high perfomrance of inter alphabet one-shot learning algorithms comperint to intra alphabet algorithms it is safe to say that there are distinct differneces between alphabets. \n",
    "* Most letters are centered in the middle of the image.\n",
    "* Data augmentation seems natural for this challenge for it increses the data set and could be internal to the model, i.e. as part of handeling the images while given a spasific batch or task. A few options are - rotating, adding random noise, scale, moving the letter left or right and many more to increase our data set size. \n",
    "* As there not many details and background in the images downsampaling to resize the image seems like a good option to increase speed without risking the data. \n",
    "\n"
   ]
  },
  {
   "cell_type": "code",
   "execution_count": 115,
   "metadata": {},
   "outputs": [
    {
     "name": "stdout",
     "output_type": "stream",
     "text": [
      "Rescaled image size -  (28, 28)\n",
      "Original image size -  (105, 105)\n"
     ]
    },
    {
     "data": {
      "text/plain": [
       "<matplotlib.image.AxesImage at 0x2633e498908>"
      ]
     },
     "execution_count": 115,
     "metadata": {},
     "output_type": "execute_result"
    },
    {
     "data": {
      "image/png": "[encoded data removed]",
      "text/plain": [
       "<Figure size 432x288 with 2 Axes>"
      ]
     },
     "metadata": {
      "needs_background": "light"
     },
     "output_type": "display_data"
    }
   ],
   "source": [
    "image_rescaled = rescale(train_set[5][5], 1.0 / 3.8, anti_aliasing=False, mode='constant')\n",
    "ax = plt.subplot(1, 2, 1)\n",
    "ax.set_title(\"Rescaled\")\n",
    "print(\"Rescaled image size - \", np.shape(image_rescaled))\n",
    "print(\"Original image size - \", np.shape(train_set[5][5]))\n",
    "plt.imshow(image_rescaled)\n",
    "ax = plt.subplot(1, 2, 2 )\n",
    "ax.set_title(\"Original\")\n",
    "plt.imshow(train_set[5][5])"
   ]
  },
  {
   "cell_type": "markdown",
   "metadata": {},
   "source": [
    "# Model Agnostic Meta-Learning (MAML)\n",
    "I chose this model for its good results in this challenge (4.2% which is among the best using meta-learning) and due to its simplicity and versatility of being model agnostic. It is a meta-algorithm compatible for a varaity systems using gradient descent procedure, this makes it a powerful tool to have and a better way to interact between codes and coders. Add about simplivcity of the concept and about using fewer parameters.\n",
    "Add about relevent to the research\n",
    "\"The key idea underlying our method is to train the model’s\n",
    "initial parameters such that the model has maximal performance\n",
    "on a new task after the parameters have been updated\n",
    "through one or more gradient steps computed with\n",
    "a small amount of data from that new task.\"\n",
    "\"In effect, the meta-learning problem treats entire tasks as training examples.\" Meaning, solving the spacific task at hand is only a step to update the meta-parametrs. \n",
    "For simplicity of this challange alpha and beta will be constant. \n",
    "\"Because the method uses gradient descent as the\n",
    "optimizer, it does not introduce any additional parameters, making it more parameter-efficient than\n",
    "other meta-learning methods.\" "
   ]
  },
  {
   "cell_type": "markdown",
   "metadata": {},
   "source": [
    "# Model Architecture FOMAML:\n",
    "Difine alpha and beta hyperparameters \n",
    "Orgenize data into tasks, trainings and eavaluation sets.\n",
    "randomly initialize meta-parameters - theta\n",
    "While training:\n",
    "    initialize tesk batch - choose X tasks of 20 i.i.d characters (one example of each). I chose batch size X = 18, so the meta\n",
    "    parameters are updated using gradiants from 18 tasks at a time.  \n",
    "    Clone meta-parameters \n",
    "    For each task in batch: \n",
    "        Divide the batch to:\n",
    "        S - support set for learning - 1 example for each of the 20 charecters chosen. \n",
    "        B - prediction set, training/testing. For evaluation, same size as S.\n",
    "        For epoch in number of epochs: #epoch size should be small to evoid overfitting, I will use 5. \n",
    "            if epoch is 0:\n",
    "            theta' = cloned meta-parameters  #create a copy of the meta-parameters for learning.\n",
    "            else:\n",
    "            continue\n",
    "            S is fed into a ConvNet-softmax learner\n",
    "            Get loss using cross entropy loss function\n",
    "            train the net parameters theta' using update rule (remember the for the first epoch theta'=thata)\n",
    "            theta' = theta' - alpha * grad (loss) \n",
    "        Use B set for the meta-update - \n",
    "        Calculate loss and gradiants for the new data points. (one epoch)\n",
    "        Add these gradiants as the meta-parameters update \n",
    "     Update meta-parameters using the gradiants from the last batch and update rule for first order MAML: theta = theta - \n",
    "     beta * sum(B gradiant updates sumed over X tasks)\n",
    "end\n",
    "\n",
    "While evaluating:\n",
    "    for each task in evaluation set:\n",
    "        theta' = theta\n",
    "        for epoch in number of epochs = 10:\n",
    "            train the network using the same network model (ConvNet - softmax)\n",
    "        After training:\n",
    "        pick another, unseen exampel of a charecter from the task and run the prediction network on it\n",
    "        \n",
    "If time allows, create a siames network implementation. \n",
    "        \n",
    "\n"
   ]
  },
  {
   "cell_type": "code",
   "execution_count": 211,
   "metadata": {},
   "outputs": [
    {
     "ename": "SyntaxError",
     "evalue": "non-default argument follows default argument (<ipython-input-211-e01831a8d8fe>, line 3)",
     "output_type": "error",
     "traceback": [
      "\u001b[1;36m  File \u001b[1;32m\"<ipython-input-211-e01831a8d8fe>\"\u001b[1;36m, line \u001b[1;32m3\u001b[0m\n\u001b[1;33m    def create_batch(data_set, n_shot = 1, k_way = 20, batch_size = 1, picked_k_all):\u001b[0m\n\u001b[1;37m                    ^\u001b[0m\n\u001b[1;31mSyntaxError\u001b[0m\u001b[1;31m:\u001b[0m non-default argument follows default argument\n"
     ]
    }
   ],
   "source": [
    "#Creating a batch for the One-shot classification problem\n",
    "\n",
    "def create_batch(data_set, n_shot = 1, k_way = 20, batch_size = 1, picked_k_all):\n",
    "    '''\n",
    "    Arguments:\n",
    "    data_set - a set of images from the training or evaluation sets\n",
    "    n_shot - number of examples from each charecter 1 for this spacific task but could be larger\n",
    "    k-way - number of charecters in the task\n",
    "    batch_size = How many task to group in one epoch of the MAML\n",
    "    \n",
    "    Return:\n",
    "    batch - a batch_size list, each place contains three parts:\n",
    "    1) Tasks matrix, each containing 2*n_shot by k_way images, the matrix is divided to two parts, the first is for learning \n",
    "    and the second for training \n",
    "    2) y_label, containing true values for training softmax classifier\n",
    "    3) picked_k - a list of indexes of letter chosen in the task from the data_set, in order to use while evaluating the \n",
    "    performence. \n",
    "    \n",
    "    '''\n",
    "    \n",
    "    batch = []\n",
    "    batch = []\n",
    "    if picked_k_all is None:\n",
    "        picked_k_all = []\n",
    "    for b in range(batch_size):\n",
    "        # initializing task list for the k charecters:\n",
    "        picked_k = []\n",
    "        task_learn = []\n",
    "        task_train = []\n",
    "        for k in range(k_way):\n",
    "            #randomly choosing a charecter\n",
    "            t = random.randrange(np.shape(data_set)[0])\n",
    "            picked_char = []\n",
    "            \n",
    "            #checking that we are not seleceting the same charecter twice\n",
    "            if not t in picked_k_all:\n",
    "                \n",
    "                for n in range(n_shot):\n",
    "                    #randomly choosing an example\n",
    "                    r_learn = random.randrange(20)\n",
    "                    r_train = random.randrange(20)\n",
    "                    \n",
    "                    #checking we don't select the same example twice\n",
    "                    if not r_learn in picked_char:\n",
    "                        char_rescaled = rescale(train_set[t][r_learn], 1.0 / 3.8, anti_aliasing=False, mode='constant')\n",
    "                        task_learn.append(char_rescaled)\n",
    "                        picked_char.append(r_learn)\n",
    "                    if not r_train in picked_char:\n",
    "                        char_rescale = rescale(train_set[t][r_train], 1.0 / 3.8, anti_aliasing=False, mode='constant')\n",
    "                        task_train.append(char_rescaled)\n",
    "                        picked_char.append(r_train)\n",
    "                        \n",
    "            picked_k.append(t)\n",
    "            picked_k_all.append(t)\n",
    "            #For each task the y label, true classification, is local to the randomly constructed task\n",
    "            #Therfore using an identity matrix to construct y labels stacked in a matrix seems natural and simple\n",
    "            #\n",
    "            y_label = np.identity(20)\n",
    "            \n",
    "        batch.append([task_learn, task_train, y_label, picked_k])\n",
    "        #create Y as an identity matrix of size 20x20 for the softmax? \n",
    "        #add learning or training set so we have for each task learning set and training set. \n",
    "    \n",
    "    return batch, picked_k_all\n",
    "    \n",
    "            \n",
    "            \n",
    "    "
   ]
  },
  {
   "cell_type": "code",
   "execution_count": 261,
   "metadata": {},
   "outputs": [
    {
     "ename": "SyntaxError",
     "evalue": "invalid syntax (<ipython-input-261-8639896ae1d2>, line 18)",
     "output_type": "error",
     "traceback": [
      "\u001b[1;36m  File \u001b[1;32m\"<ipython-input-261-8639896ae1d2>\"\u001b[1;36m, line \u001b[1;32m18\u001b[0m\n\u001b[1;33m    ]))\u001b[0m\n\u001b[1;37m      ^\u001b[0m\n\u001b[1;31mSyntaxError\u001b[0m\u001b[1;31m:\u001b[0m invalid syntax\n"
     ]
    }
   ],
   "source": [
    "class OneShotMAML(nn.Module):\n",
    "    # Defining the ConvNet for the learner\n",
    "    \n",
    "    def __init__(self):\n",
    "        super(OneShotMAML, self).__init__()\n",
    "        \n",
    "        # Define the networks steps:\n",
    "        self.layers = nn.Sequential([\n",
    "            ('conv1', nn.Conv2d(1, 64, 3, stride = 2)),\n",
    "            ('batchNorm1', nn.BatchNorm2d(64)),\n",
    "            ('relu1', nn.ReLU(inplace = True)),\n",
    "            ('conv2', nn.Conv2d(64, 64, 3, stride = 2)),\n",
    "            ('batchNorm2', nn.BatchNorm2d(64)),\n",
    "            ('relu2', nn.ReLU(inplace = True)),\n",
    "            ('conv3', nn.Conv2d(64, 64, 3, stride = 2)),\n",
    "            ('batchNorm3', nn.BatchNorm2d(64)),\n",
    "            ('relu3', nn.ReLU(inplace = True))\n",
    "        ]))\n",
    "        self.add_module('fc', nn.Linear(64,20))\n",
    "    '''\n",
    "    def BatchNormChangeWeight(input, weight=None, bias=None, running_mean=None, running_var=None, training=True, eps=1e-5, momentum=1):\n",
    "        #Got some help with this one by looking at https://github.com/katerakelly/pytorch-maml/blob/master/src/layers.py\n",
    "        #In order to move weights to the new trainer\n",
    "        running_mean_ = torch.zeros(np.prod(np.array(input.data.size()[1])))\n",
    "        running_var_ = torch.ones(np.prod(np.array(input.data.size()[1])))\n",
    "        return F.batch_norm(input, running_mean, running_var, weight, bias, training, momentum, eps)\n",
    "    '''\n",
    "    \n",
    "    def forward(self, x):\n",
    "            #x = torch.from_numpy(x)\n",
    "            x = self.layers(x)\n",
    "            x = x.view(x.size(0), 64)\n",
    "            x = selc.fc(x)\n",
    "\n",
    "    "
   ]
  },
  {
   "cell_type": "code",
   "execution_count": 215,
   "metadata": {},
   "outputs": [],
   "source": [
    "A = create_batch(train_set)"
   ]
  },
  {
   "cell_type": "code",
   "execution_count": 244,
   "metadata": {},
   "outputs": [
    {
     "name": "stdout",
     "output_type": "stream",
     "text": [
      "<class 'torch.Tensor'>\n",
      "<class 'torch.Tensor'>\n",
      "<class 'torch.Tensor'>\n",
      "<class 'torch.Tensor'>\n",
      "<class 'torch.Tensor'>\n",
      "<class 'torch.Tensor'>\n",
      "<class 'torch.Tensor'>\n",
      "<class 'torch.Tensor'>\n",
      "<class 'torch.Tensor'>\n",
      "<class 'torch.Tensor'>\n",
      "<class 'torch.Tensor'>\n",
      "<class 'torch.Tensor'>\n",
      "<class 'torch.Tensor'>\n",
      "<class 'torch.Tensor'>\n",
      "<class 'torch.Tensor'>\n",
      "<class 'torch.Tensor'>\n",
      "<class 'torch.Tensor'>\n",
      "<class 'torch.Tensor'>\n",
      "<class 'torch.Tensor'>\n",
      "<class 'torch.Tensor'>\n"
     ]
    }
   ],
   "source": [
    "task = (((A[0])[0])[0])\n",
    "train_loader = torch.utils.data.DataLoader(task)\n",
    "for inputs in train_loader:\n",
    "    print(type((inputs[0])))\n"
   ]
  },
  {
   "cell_type": "code",
   "execution_count": 256,
   "metadata": {},
   "outputs": [
    {
     "name": "stdout",
     "output_type": "stream",
     "text": [
      "<class 'list'>\n",
      "torch.DoubleTensor\n",
      "torch.DoubleTensor\n",
      "torch.DoubleTensor\n",
      "torch.DoubleTensor\n",
      "torch.DoubleTensor\n",
      "torch.DoubleTensor\n",
      "torch.DoubleTensor\n",
      "torch.DoubleTensor\n",
      "torch.DoubleTensor\n",
      "torch.DoubleTensor\n",
      "torch.DoubleTensor\n",
      "torch.DoubleTensor\n",
      "torch.DoubleTensor\n",
      "torch.DoubleTensor\n",
      "torch.DoubleTensor\n",
      "torch.DoubleTensor\n",
      "torch.DoubleTensor\n",
      "torch.DoubleTensor\n",
      "torch.DoubleTensor\n",
      "torch.DoubleTensor\n",
      "torch.Size([28, 28])\n",
      "torch.Size([28, 28])\n",
      "torch.Size([28, 28])\n",
      "torch.Size([28, 28])\n",
      "torch.Size([28, 28])\n",
      "torch.Size([28, 28])\n",
      "torch.Size([28, 28])\n",
      "torch.Size([28, 28])\n",
      "torch.Size([28, 28])\n",
      "torch.Size([28, 28])\n",
      "torch.Size([28, 28])\n",
      "torch.Size([28, 28])\n",
      "torch.Size([28, 28])\n",
      "torch.Size([28, 28])\n",
      "torch.Size([28, 28])\n",
      "torch.Size([28, 28])\n",
      "torch.Size([28, 28])\n",
      "torch.Size([28, 28])\n",
      "torch.Size([28, 28])\n",
      "torch.Size([28, 28])\n"
     ]
    }
   ],
   "source": [
    "print(type(task))\n",
    "for t in task:\n",
    "    #print(t.size())\n",
    "    t = t.unsqueeze(0)\n",
    "    t = t.unsqueeze(0)\n",
    "    \n",
    "    print(t.type())\n",
    "for t in task:\n",
    "    print(t.size())\n",
    "    "
   ]
  },
  {
   "cell_type": "code",
   "execution_count": 262,
   "metadata": {},
   "outputs": [
    {
     "name": "stdout",
     "output_type": "stream",
     "text": [
      "torch.DoubleTensor\n",
      "torch.DoubleTensor torch.Size([1, 1, 28, 28])\n"
     ]
    },
    {
     "ename": "RuntimeError",
     "evalue": "Expected object of scalar type Double but got scalar type Float for argument #2 'weight'",
     "output_type": "error",
     "traceback": [
      "\u001b[1;31m---------------------------------------------------------------------------\u001b[0m",
      "\u001b[1;31mRuntimeError\u001b[0m                              Traceback (most recent call last)",
      "\u001b[1;32m<ipython-input-262-0a81c0394e95>\u001b[0m in \u001b[0;36m<module>\u001b[1;34m\u001b[0m\n\u001b[0;32m     10\u001b[0m     \u001b[0minput_\u001b[0m \u001b[1;33m=\u001b[0m \u001b[0minput_\u001b[0m\u001b[1;33m.\u001b[0m\u001b[0munsqueeze\u001b[0m\u001b[1;33m(\u001b[0m\u001b[1;36m0\u001b[0m\u001b[1;33m)\u001b[0m\u001b[1;33m\u001b[0m\u001b[1;33m\u001b[0m\u001b[0m\n\u001b[0;32m     11\u001b[0m     \u001b[0mprint\u001b[0m\u001b[1;33m(\u001b[0m\u001b[0minput_\u001b[0m\u001b[1;33m.\u001b[0m\u001b[0mtype\u001b[0m\u001b[1;33m(\u001b[0m\u001b[1;33m)\u001b[0m\u001b[1;33m,\u001b[0m \u001b[0minput_\u001b[0m\u001b[1;33m.\u001b[0m\u001b[0msize\u001b[0m\u001b[1;33m(\u001b[0m\u001b[1;33m)\u001b[0m\u001b[1;33m)\u001b[0m\u001b[1;33m\u001b[0m\u001b[1;33m\u001b[0m\u001b[0m\n\u001b[1;32m---> 12\u001b[1;33m     \u001b[0moutput\u001b[0m \u001b[1;33m=\u001b[0m \u001b[0mnet\u001b[0m\u001b[1;33m(\u001b[0m\u001b[0minput_\u001b[0m\u001b[1;33m)\u001b[0m\u001b[1;33m\u001b[0m\u001b[1;33m\u001b[0m\u001b[0m\n\u001b[0m\u001b[0;32m     13\u001b[0m     \u001b[0mloss\u001b[0m \u001b[1;33m=\u001b[0m \u001b[0mloss_func\u001b[0m\u001b[1;33m(\u001b[0m\u001b[0moutput\u001b[0m\u001b[1;33m,\u001b[0m \u001b[0mY\u001b[0m\u001b[1;33m)\u001b[0m\u001b[1;33m\u001b[0m\u001b[1;33m\u001b[0m\u001b[0m\n\u001b[0;32m     14\u001b[0m     \u001b[0mnet\u001b[0m\u001b[1;33m.\u001b[0m\u001b[0mzero_grad\u001b[0m\u001b[1;33m(\u001b[0m\u001b[1;33m)\u001b[0m\u001b[1;33m\u001b[0m\u001b[1;33m\u001b[0m\u001b[0m\n",
      "\u001b[1;32m~\\Anaconda3\\lib\\site-packages\\torch\\nn\\modules\\module.py\u001b[0m in \u001b[0;36m__call__\u001b[1;34m(self, *input, **kwargs)\u001b[0m\n\u001b[0;32m    487\u001b[0m             \u001b[0mresult\u001b[0m \u001b[1;33m=\u001b[0m \u001b[0mself\u001b[0m\u001b[1;33m.\u001b[0m\u001b[0m_slow_forward\u001b[0m\u001b[1;33m(\u001b[0m\u001b[1;33m*\u001b[0m\u001b[0minput\u001b[0m\u001b[1;33m,\u001b[0m \u001b[1;33m**\u001b[0m\u001b[0mkwargs\u001b[0m\u001b[1;33m)\u001b[0m\u001b[1;33m\u001b[0m\u001b[1;33m\u001b[0m\u001b[0m\n\u001b[0;32m    488\u001b[0m         \u001b[1;32melse\u001b[0m\u001b[1;33m:\u001b[0m\u001b[1;33m\u001b[0m\u001b[1;33m\u001b[0m\u001b[0m\n\u001b[1;32m--> 489\u001b[1;33m             \u001b[0mresult\u001b[0m \u001b[1;33m=\u001b[0m \u001b[0mself\u001b[0m\u001b[1;33m.\u001b[0m\u001b[0mforward\u001b[0m\u001b[1;33m(\u001b[0m\u001b[1;33m*\u001b[0m\u001b[0minput\u001b[0m\u001b[1;33m,\u001b[0m \u001b[1;33m**\u001b[0m\u001b[0mkwargs\u001b[0m\u001b[1;33m)\u001b[0m\u001b[1;33m\u001b[0m\u001b[1;33m\u001b[0m\u001b[0m\n\u001b[0m\u001b[0;32m    490\u001b[0m         \u001b[1;32mfor\u001b[0m \u001b[0mhook\u001b[0m \u001b[1;32min\u001b[0m \u001b[0mself\u001b[0m\u001b[1;33m.\u001b[0m\u001b[0m_forward_hooks\u001b[0m\u001b[1;33m.\u001b[0m\u001b[0mvalues\u001b[0m\u001b[1;33m(\u001b[0m\u001b[1;33m)\u001b[0m\u001b[1;33m:\u001b[0m\u001b[1;33m\u001b[0m\u001b[1;33m\u001b[0m\u001b[0m\n\u001b[0;32m    491\u001b[0m             \u001b[0mhook_result\u001b[0m \u001b[1;33m=\u001b[0m \u001b[0mhook\u001b[0m\u001b[1;33m(\u001b[0m\u001b[0mself\u001b[0m\u001b[1;33m,\u001b[0m \u001b[0minput\u001b[0m\u001b[1;33m,\u001b[0m \u001b[0mresult\u001b[0m\u001b[1;33m)\u001b[0m\u001b[1;33m\u001b[0m\u001b[1;33m\u001b[0m\u001b[0m\n",
      "\u001b[1;32m<ipython-input-145-2c312ae43ae9>\u001b[0m in \u001b[0;36mforward\u001b[1;34m(self, x)\u001b[0m\n\u001b[0;32m     29\u001b[0m     \u001b[1;32mdef\u001b[0m \u001b[0mforward\u001b[0m\u001b[1;33m(\u001b[0m\u001b[0mself\u001b[0m\u001b[1;33m,\u001b[0m \u001b[0mx\u001b[0m\u001b[1;33m)\u001b[0m\u001b[1;33m:\u001b[0m\u001b[1;33m\u001b[0m\u001b[1;33m\u001b[0m\u001b[0m\n\u001b[0;32m     30\u001b[0m             \u001b[1;31m#x = torch.from_numpy(x)\u001b[0m\u001b[1;33m\u001b[0m\u001b[1;33m\u001b[0m\u001b[1;33m\u001b[0m\u001b[0m\n\u001b[1;32m---> 31\u001b[1;33m             \u001b[0mx\u001b[0m \u001b[1;33m=\u001b[0m \u001b[0mself\u001b[0m\u001b[1;33m.\u001b[0m\u001b[0mlayers\u001b[0m\u001b[1;33m(\u001b[0m\u001b[0mx\u001b[0m\u001b[1;33m)\u001b[0m\u001b[1;33m\u001b[0m\u001b[1;33m\u001b[0m\u001b[0m\n\u001b[0m\u001b[0;32m     32\u001b[0m             \u001b[0mx\u001b[0m \u001b[1;33m=\u001b[0m \u001b[0mx\u001b[0m\u001b[1;33m.\u001b[0m\u001b[0mview\u001b[0m\u001b[1;33m(\u001b[0m\u001b[0mx\u001b[0m\u001b[1;33m.\u001b[0m\u001b[0msize\u001b[0m\u001b[1;33m(\u001b[0m\u001b[1;36m0\u001b[0m\u001b[1;33m)\u001b[0m\u001b[1;33m,\u001b[0m \u001b[1;36m64\u001b[0m\u001b[1;33m)\u001b[0m\u001b[1;33m\u001b[0m\u001b[1;33m\u001b[0m\u001b[0m\n\u001b[0;32m     33\u001b[0m             \u001b[0mx\u001b[0m \u001b[1;33m=\u001b[0m \u001b[0mselc\u001b[0m\u001b[1;33m.\u001b[0m\u001b[0mfc\u001b[0m\u001b[1;33m(\u001b[0m\u001b[0mx\u001b[0m\u001b[1;33m)\u001b[0m\u001b[1;33m\u001b[0m\u001b[1;33m\u001b[0m\u001b[0m\n",
      "\u001b[1;32m~\\Anaconda3\\lib\\site-packages\\torch\\nn\\modules\\module.py\u001b[0m in \u001b[0;36m__call__\u001b[1;34m(self, *input, **kwargs)\u001b[0m\n\u001b[0;32m    487\u001b[0m             \u001b[0mresult\u001b[0m \u001b[1;33m=\u001b[0m \u001b[0mself\u001b[0m\u001b[1;33m.\u001b[0m\u001b[0m_slow_forward\u001b[0m\u001b[1;33m(\u001b[0m\u001b[1;33m*\u001b[0m\u001b[0minput\u001b[0m\u001b[1;33m,\u001b[0m \u001b[1;33m**\u001b[0m\u001b[0mkwargs\u001b[0m\u001b[1;33m)\u001b[0m\u001b[1;33m\u001b[0m\u001b[1;33m\u001b[0m\u001b[0m\n\u001b[0;32m    488\u001b[0m         \u001b[1;32melse\u001b[0m\u001b[1;33m:\u001b[0m\u001b[1;33m\u001b[0m\u001b[1;33m\u001b[0m\u001b[0m\n\u001b[1;32m--> 489\u001b[1;33m             \u001b[0mresult\u001b[0m \u001b[1;33m=\u001b[0m \u001b[0mself\u001b[0m\u001b[1;33m.\u001b[0m\u001b[0mforward\u001b[0m\u001b[1;33m(\u001b[0m\u001b[1;33m*\u001b[0m\u001b[0minput\u001b[0m\u001b[1;33m,\u001b[0m \u001b[1;33m**\u001b[0m\u001b[0mkwargs\u001b[0m\u001b[1;33m)\u001b[0m\u001b[1;33m\u001b[0m\u001b[1;33m\u001b[0m\u001b[0m\n\u001b[0m\u001b[0;32m    490\u001b[0m         \u001b[1;32mfor\u001b[0m \u001b[0mhook\u001b[0m \u001b[1;32min\u001b[0m \u001b[0mself\u001b[0m\u001b[1;33m.\u001b[0m\u001b[0m_forward_hooks\u001b[0m\u001b[1;33m.\u001b[0m\u001b[0mvalues\u001b[0m\u001b[1;33m(\u001b[0m\u001b[1;33m)\u001b[0m\u001b[1;33m:\u001b[0m\u001b[1;33m\u001b[0m\u001b[1;33m\u001b[0m\u001b[0m\n\u001b[0;32m    491\u001b[0m             \u001b[0mhook_result\u001b[0m \u001b[1;33m=\u001b[0m \u001b[0mhook\u001b[0m\u001b[1;33m(\u001b[0m\u001b[0mself\u001b[0m\u001b[1;33m,\u001b[0m \u001b[0minput\u001b[0m\u001b[1;33m,\u001b[0m \u001b[0mresult\u001b[0m\u001b[1;33m)\u001b[0m\u001b[1;33m\u001b[0m\u001b[1;33m\u001b[0m\u001b[0m\n",
      "\u001b[1;32m~\\Anaconda3\\lib\\site-packages\\torch\\nn\\modules\\container.py\u001b[0m in \u001b[0;36mforward\u001b[1;34m(self, input)\u001b[0m\n\u001b[0;32m     90\u001b[0m     \u001b[1;32mdef\u001b[0m \u001b[0mforward\u001b[0m\u001b[1;33m(\u001b[0m\u001b[0mself\u001b[0m\u001b[1;33m,\u001b[0m \u001b[0minput\u001b[0m\u001b[1;33m)\u001b[0m\u001b[1;33m:\u001b[0m\u001b[1;33m\u001b[0m\u001b[1;33m\u001b[0m\u001b[0m\n\u001b[0;32m     91\u001b[0m         \u001b[1;32mfor\u001b[0m \u001b[0mmodule\u001b[0m \u001b[1;32min\u001b[0m \u001b[0mself\u001b[0m\u001b[1;33m.\u001b[0m\u001b[0m_modules\u001b[0m\u001b[1;33m.\u001b[0m\u001b[0mvalues\u001b[0m\u001b[1;33m(\u001b[0m\u001b[1;33m)\u001b[0m\u001b[1;33m:\u001b[0m\u001b[1;33m\u001b[0m\u001b[1;33m\u001b[0m\u001b[0m\n\u001b[1;32m---> 92\u001b[1;33m             \u001b[0minput\u001b[0m \u001b[1;33m=\u001b[0m \u001b[0mmodule\u001b[0m\u001b[1;33m(\u001b[0m\u001b[0minput\u001b[0m\u001b[1;33m)\u001b[0m\u001b[1;33m\u001b[0m\u001b[1;33m\u001b[0m\u001b[0m\n\u001b[0m\u001b[0;32m     93\u001b[0m         \u001b[1;32mreturn\u001b[0m \u001b[0minput\u001b[0m\u001b[1;33m\u001b[0m\u001b[1;33m\u001b[0m\u001b[0m\n\u001b[0;32m     94\u001b[0m \u001b[1;33m\u001b[0m\u001b[0m\n",
      "\u001b[1;32m~\\Anaconda3\\lib\\site-packages\\torch\\nn\\modules\\module.py\u001b[0m in \u001b[0;36m__call__\u001b[1;34m(self, *input, **kwargs)\u001b[0m\n\u001b[0;32m    487\u001b[0m             \u001b[0mresult\u001b[0m \u001b[1;33m=\u001b[0m \u001b[0mself\u001b[0m\u001b[1;33m.\u001b[0m\u001b[0m_slow_forward\u001b[0m\u001b[1;33m(\u001b[0m\u001b[1;33m*\u001b[0m\u001b[0minput\u001b[0m\u001b[1;33m,\u001b[0m \u001b[1;33m**\u001b[0m\u001b[0mkwargs\u001b[0m\u001b[1;33m)\u001b[0m\u001b[1;33m\u001b[0m\u001b[1;33m\u001b[0m\u001b[0m\n\u001b[0;32m    488\u001b[0m         \u001b[1;32melse\u001b[0m\u001b[1;33m:\u001b[0m\u001b[1;33m\u001b[0m\u001b[1;33m\u001b[0m\u001b[0m\n\u001b[1;32m--> 489\u001b[1;33m             \u001b[0mresult\u001b[0m \u001b[1;33m=\u001b[0m \u001b[0mself\u001b[0m\u001b[1;33m.\u001b[0m\u001b[0mforward\u001b[0m\u001b[1;33m(\u001b[0m\u001b[1;33m*\u001b[0m\u001b[0minput\u001b[0m\u001b[1;33m,\u001b[0m \u001b[1;33m**\u001b[0m\u001b[0mkwargs\u001b[0m\u001b[1;33m)\u001b[0m\u001b[1;33m\u001b[0m\u001b[1;33m\u001b[0m\u001b[0m\n\u001b[0m\u001b[0;32m    490\u001b[0m         \u001b[1;32mfor\u001b[0m \u001b[0mhook\u001b[0m \u001b[1;32min\u001b[0m \u001b[0mself\u001b[0m\u001b[1;33m.\u001b[0m\u001b[0m_forward_hooks\u001b[0m\u001b[1;33m.\u001b[0m\u001b[0mvalues\u001b[0m\u001b[1;33m(\u001b[0m\u001b[1;33m)\u001b[0m\u001b[1;33m:\u001b[0m\u001b[1;33m\u001b[0m\u001b[1;33m\u001b[0m\u001b[0m\n\u001b[0;32m    491\u001b[0m             \u001b[0mhook_result\u001b[0m \u001b[1;33m=\u001b[0m \u001b[0mhook\u001b[0m\u001b[1;33m(\u001b[0m\u001b[0mself\u001b[0m\u001b[1;33m,\u001b[0m \u001b[0minput\u001b[0m\u001b[1;33m,\u001b[0m \u001b[0mresult\u001b[0m\u001b[1;33m)\u001b[0m\u001b[1;33m\u001b[0m\u001b[1;33m\u001b[0m\u001b[0m\n",
      "\u001b[1;32m~\\Anaconda3\\lib\\site-packages\\torch\\nn\\modules\\conv.py\u001b[0m in \u001b[0;36mforward\u001b[1;34m(self, input)\u001b[0m\n\u001b[0;32m    318\u001b[0m     \u001b[1;32mdef\u001b[0m \u001b[0mforward\u001b[0m\u001b[1;33m(\u001b[0m\u001b[0mself\u001b[0m\u001b[1;33m,\u001b[0m \u001b[0minput\u001b[0m\u001b[1;33m)\u001b[0m\u001b[1;33m:\u001b[0m\u001b[1;33m\u001b[0m\u001b[1;33m\u001b[0m\u001b[0m\n\u001b[0;32m    319\u001b[0m         return F.conv2d(input, self.weight, self.bias, self.stride,\n\u001b[1;32m--> 320\u001b[1;33m                         self.padding, self.dilation, self.groups)\n\u001b[0m\u001b[0;32m    321\u001b[0m \u001b[1;33m\u001b[0m\u001b[0m\n\u001b[0;32m    322\u001b[0m \u001b[1;33m\u001b[0m\u001b[0m\n",
      "\u001b[1;31mRuntimeError\u001b[0m: Expected object of scalar type Double but got scalar type Float for argument #2 'weight'"
     ]
    }
   ],
   "source": [
    "#task = ((A[0])[0])[0]\n",
    "Y = torch.eye(20)\n",
    "Y = Y.double()\n",
    "\n",
    "print(Y.type())\n",
    "loss_func = nn.CrossEntropyLoss()\n",
    "net = OneShotMAML()\n",
    "for t in task:\n",
    "    input_ = t.unsqueeze(0)\n",
    "    input_ = input_.unsqueeze(0)\n",
    "    print(input_.type(), input_.size())\n",
    "    output = net(input_)\n",
    "    loss = loss_func(output, Y)\n",
    "    net.zero_grad()\n",
    "    loss.backwards()\n",
    "\n",
    "    for name, param in net.named_parameters():\n",
    "        print(name)\n",
    "\n",
    "    model_dict = net.state_dict()\n",
    "    for f in model_dict:\n",
    "        if f == 'layers.conv1.weight':\n",
    "            print((model_dict[f])[0])\n",
    "        if f == 'layers.batchNorm2.weight':\n",
    "            print((model_dict[f])[1])\n",
    "\n",
    "    for name, param in net.named_parameters():\n",
    "        model_dict[name] -= 0.01*param.grad\n",
    "    with torch.no_grad():\n",
    "        for param in net.parameters():\n",
    "            param -= 0.01 * param.grad\n",
    "    \n",
    "\n",
    "    for f in model_dict:\n",
    "        if f == 'layers.conv1.weight':\n",
    "            print((model_dict[f])[0])\n",
    "        if f == 'layers.batchNorm2.weight':\n",
    "            print((model_dict[f])[1])\n",
    "\n",
    "    model.dict2 = net.state_dict()\n",
    "    for f in model_dict2:\n",
    "        if f == 'layers.conv1.weight':\n",
    "            print((model_dict2[f])[0])\n",
    "        if f == 'layers.batchNorm2.weight':\n",
    "            print((model_dict2[f])[1])"
   ]
  },
  {
   "cell_type": "code",
   "execution_count": 204,
   "metadata": {},
   "outputs": [
    {
     "name": "stdout",
     "output_type": "stream",
     "text": [
      "tensor([[1., 0., 0., 0., 0.],\n",
      "        [0., 1., 0., 0., 0.],\n",
      "        [0., 0., 1., 0., 0.],\n",
      "        [0., 0., 0., 1., 0.],\n",
      "        [0., 0., 0., 0., 1.]])\n"
     ]
    }
   ],
   "source": [
    "sd=torch.eye(5)\n",
    "print(sd)"
   ]
  },
  {
   "cell_type": "code",
   "execution_count": 106,
   "metadata": {},
   "outputs": [
    {
     "name": "stdout",
     "output_type": "stream",
     "text": [
      "<class 'numpy.ndarray'>\n"
     ]
    },
    {
     "data": {
      "image/png": "[encoded data removed]",
      "text/plain": [
       "<Figure size 432x288 with 1 Axes>"
      ]
     },
     "metadata": {
      "needs_background": "light"
     },
     "output_type": "display_data"
    }
   ],
   "source": [
    "task = ((A[0])[0])[0]\n",
    "char = task[0]\n",
    "plt.imshow(char)\n",
    "print(type(task[0]))\n"
   ]
  },
  {
   "cell_type": "code",
   "execution_count": null,
   "metadata": {},
   "outputs": [],
   "source": [
    "def meta_step(meta_model, training_batch, num_inner_epochs = 5, inner_learning_rate = 0.1, meta_learning_rate = 0.1, \n",
    "              loss_func = 'CrossEntropyLoss' ):\n",
    "    ''''\n",
    "    Takes a meta update step for the model.\n",
    "    \n",
    "    Arguments:\n",
    "    meta_model - the meta model, we will use it to create the clone for the fast-learning inner loops.\n",
    "    training_batch - batch of tasks for the inner learner.\n",
    "    num_inner_epochs - number of epochs to use in the inner loop of each task.\n",
    "    inner_learning_rate - the learning rate to be used in the inner loops, set to 0.1 as in the article.\n",
    "    meta_learning_rate - the learning rate to be use for updating the meta-parameters, set to 0.1 as in the article.\n",
    "    loss_func - the loss function to use in the inner loops - set to be Cross-entropy \n",
    "    \n",
    "    Return:\n",
    "    meta_model_dict - the updated meta-parameters \n",
    "    \n",
    "    ''''\n",
    "    meta_model_dict = meta_model.state_dict() #the update will be on the state_dict() of the meta model and will later update\n",
    "                                                # the meta_parameters using this dict. \n",
    "    meta_gradiant = []\n",
    "    if loss_func == 'CrossEntropyLoss':\n",
    "        loss_func = nn.CrossEntropyLoss()\n",
    "        \n",
    "    for task in training_batch[0]:\n",
    "        S = task[0] #The set for learning\n",
    "        B = task[1] #The set for training\n",
    "        Y = task[2] #The true y labels\n",
    "        fast_learner_net = copy.deepcopy(meta_model)\n",
    "        for epoch in num_inner_epochs:\n",
    "            for char in range(len(S)):\n",
    "                output = fast_learner_net(S[char])\n",
    "                target = Y[char]\n",
    "                loss = loss_func(output, target)\n",
    "                fast_learner_net.zero_grad()\n",
    "                loss.backwards()\n",
    "                with torch.no_grad():\n",
    "                    for param in fast_learner_net.parameters():\n",
    "                        param -= inner_learning_rate * param.grad\n",
    "                    \n",
    "        #Computing the grads for the meta-update using the training set B:\n",
    "        output = fast_learner_net(B)\n",
    "        target = Y\n",
    "        loss = loss_func(output, target)\n",
    "        meta_model.zero_grad()\n",
    "        loss.backwards()\n",
    "        grad_list = []\n",
    "        with torch.no_grad():\n",
    "            for name, param in fast_learner_net.named_parameters():\n",
    "                meta_model_dict[name] -= meta_learning_rate * param.gard #the name on the list are the same so we update \n",
    "    \n",
    "    return meta_model_dict                \n",
    "        \n",
    "        "
   ]
  },
  {
   "cell_type": "code",
   "execution_count": null,
   "metadata": {},
   "outputs": [],
   "source": [
    "class evaluate_model(meta_model, evaluation_set, batch_size = 4, number_of_examples = 15, num_inner_epochs = 10, \n",
    "                   inner_learning_rate = 0.1, \n",
    "                   meta_learning_rate = 0.1, loss_func = 'CrossEntropyLoss' ):\n",
    "    \n",
    "    ''''\n",
    "    Evaluate the model using one-shot example tests.\n",
    "    \n",
    "    Arguments:\n",
    "    meta_model - the trained meta model.\n",
    "    evaluation_set - the set for evaluation.\n",
    "    batch_size - number of batches from the evaluation set \n",
    "    number_of_examples - number of never seen examples to evaluate the trained network.\n",
    "    num_inner_epochs - number of epochs to use in the inner loop of each task.\n",
    "    inner_learning_rate - the learning rate to be used in the inner loops, set to 0.1 as in the article.\n",
    "    meta_learning_rate - the learning rate to be use for updating the meta-parameters, set to 0.1 as in the article.\n",
    "    loss_func - the loss function to use in the inner loops - set to be  Cross-entropy\n",
    "    \n",
    "    Returns:\n",
    "     right_percentage - How good is our model?  \n",
    "    \n",
    "    ''''\n",
    "    #Creating a batch for the One-shot classification problem\n",
    "\n",
    "    def create_eval_batch(data_set, n_shot = 1, k_way = 20, batch_size = 1, picked_k_all=None):\n",
    "        '''\n",
    "        Arguments:\n",
    "        data_set - a set of images from the training or evaluation sets\n",
    "        n_shot - number of examples from each charecter 1 for this spacific task but could be larger\n",
    "        k-way - number of charecters in the task\n",
    "        batch_size = How many task to group in one epoch of the MAML\n",
    "    \n",
    "        Return:\n",
    "        batch - a batch_size list, each place contains three parts:\n",
    "        1) learning set and training set, each containing n_shot by k_way images.\n",
    "        2) Evaluation set with 15 examples for testing the post trained model.  \n",
    "        3) y_label, containing true values for training softmax classifier.\n",
    "        4) picked_k - a list of indexes of letter chosen in the task from the data_set, in order to use while evaluating the \n",
    "        performence. \n",
    "    \n",
    "        '''\n",
    "    \n",
    "        batch = []\n",
    "        if picked_k_all is None:\n",
    "            picked_k_all = []\n",
    "        for b in range(batch_size):\n",
    "            # initializing task list for the k charecters:\n",
    "            picked_k = []\n",
    "            task_learn = []\n",
    "            task_train = []\n",
    "            task_eval = []\n",
    "            y_eval = []\n",
    "            for k in range(k_way):\n",
    "                #randomly choosing a charecter\n",
    "                t = random.randrange(np.shape(data_set)[0])\n",
    "                picked_char = []\n",
    "            \n",
    "                #checking that we are not seleceting the same charecter twice\n",
    "                if not t in picked_k_all:\n",
    "                \n",
    "                    for n in range(n_shot):\n",
    "                        #randomly choosing an example\n",
    "                        r_learn = random.randrange(20)\n",
    "                        r_train = random.randrange(20)\n",
    "                    \n",
    "                        #checking we don't select the same example twice\n",
    "                        if not r_learn in picked_char:\n",
    "                            char_rescaled = rescale(train_set[t][r_learn], 1.0 / 3.8, anti_aliasing=False, mode='constant')\n",
    "                            task_learn.append(char_rescaled)\n",
    "                            picked_char.append(r_learn)\n",
    "                        if not r_train in picked_char:\n",
    "                            char_rescale = rescale(train_set[t][r_train], 1.0 / 3.8, anti_aliasing=False, mode='constant')\n",
    "                            task_train.append(char_rescaled)\n",
    "                            picked_char.append(r_train)\n",
    "                \n",
    "                picked_k.append(t)\n",
    "                picked_k_all.append(t)\n",
    "                #For each task the y label, true classification, is local to the randomly constructed task\n",
    "                #Therfore using an identity matrix to construct y labels stacked in a matrix seems natural and simple\n",
    "                #\n",
    "                y_label = np.identity(20)\n",
    "            for i in range(15):\n",
    "                t = random.choice(picked_k)\n",
    "                r = random.randrange(20)\n",
    "                char_rescale = rescale(train_set[t][r], 1.0 / 3.8, anti_aliasing=False, mode='constant')\n",
    "                task_eval.appand(char_rescaeled)\n",
    "                for i in range(k_way):\n",
    "                    if picked_k[i] == t:\n",
    "                        y_eval.append(y_label[i])\n",
    "                \n",
    "            batch.append([task_learn, task_train, y_label, task_eval, y_eval, picked_k])\n",
    "            #create Y as an identity matrix of size 20x20 for the softmax? \n",
    "            #add learning or training set so we have for each task learning set and training set. \n",
    "    \n",
    "        return batch\n",
    "    \n",
    "    def evaluate(meta_model, eval_batch, num_inner_epochs = 10, inner_learning_rate = 0.1, \n",
    "                  loss_func = 'CrossEntropyLoss' ):\n",
    "        ''''\n",
    "        Evaluate the model\n",
    "    \n",
    "        Arguments:\n",
    "        meta_model - the trained meta model.\n",
    "        eval_batch - batch of tasks for the inner learner and evaluation examples.\n",
    "        num_inner_epochs - number of epochs to use in the inner loop of each task.\n",
    "        inner_learning_rate - the learning rate to be used in the inner loops, set to 0.1 as in the article.\n",
    "        loss_func - the loss function to use in the inner loops - set to be Cross-entropy \n",
    "    \n",
    "        Return:\n",
    "        meta_model_loss - the avarage loss of the model\n",
    "    \n",
    "        '''' \n",
    "        \n",
    "        if loss_func == 'CrossEntropyLoss':\n",
    "            loss_func = nn.CrossEntropyLoss()\n",
    "        \n",
    "        right_percentage = []\n",
    "        \n",
    "        for task in eval_batch:\n",
    "            right_ans = 0\n",
    "            S = task[0] #The set for learning\n",
    "            B = task[1] #The set for training\n",
    "            Y = task[2] #The true y labels\n",
    "            task_eval = task[3] #the 15 evaluation examples\n",
    "            eval_y = task[4] #the examples y labels\n",
    "            fast_learner_net = copy.deepcopy(meta_model)\n",
    "            for epoch in num_inner_epochs:\n",
    "                for char in range(len(S)):\n",
    "                    output = fast_learner_net(S[char])\n",
    "                    target = Y[char]\n",
    "                    loss = loss_func(output, target)\n",
    "                    fast_learner_net.zero_grad()\n",
    "                    loss.backwards()\n",
    "                    with torch.no_grad():\n",
    "                        for param in fast_learner_net.parameters():\n",
    "                            param -= inner_learning_rate * param.grad\n",
    "                    \n",
    "            #Computing the grads for the meta-update using the training set B:\n",
    "            for char in range(len(B)):\n",
    "                output = fast_learner_net(B[char])\n",
    "                target = Y[char]\n",
    "                loss = loss_func(output, target)\n",
    "                meta_model.zero_grad()\n",
    "                loss.backwards()\n",
    "                grad_list = []\n",
    "                with torch.no_grad():\n",
    "                    for param in fast_learner_net.parameters():\n",
    "                         param -= inner_learning_rate * param.gard\n",
    "            #Now for the predictions:\n",
    "            for example in range(15):\n",
    "                output = fast_learner_net(task_eval[example])\n",
    "                softmax = nn.Softmax()\n",
    "                prediction = softmax(output)\n",
    "                target = eval_y[example]\n",
    "                if target == prediction:\n",
    "                    right_ans+=1\n",
    "            right_percentage.append(right_ans/15)\n",
    "    \n",
    "        return right_percentage\n",
    "\n",
    "    return right_percentage\n",
    "        \n",
    "            \n",
    "            \n",
    "    \n",
    "    "
   ]
  },
  {
   "cell_type": "markdown",
   "metadata": {},
   "source": [
    "# Puting it all together:"
   ]
  },
  {
   "cell_type": "code",
   "execution_count": 35,
   "metadata": {},
   "outputs": [
    {
     "name": "stdout",
     "output_type": "stream",
     "text": [
      "[([1, 2, 3], [3, 5, 2]), ([2, 3, 4], [2, 7, 3]), ([3, 4, 5], [6, 4, 8])]\n",
      "[[1, 2, 3], [2, 3, 4], [3, 4, 5]]\n"
     ]
    }
   ],
   "source": [
    "#Initializing the meta-model:\n",
    "meta_model = OneShotMAML()\n",
    "#Running a for loop for the meta-updates:\n",
    "picked_k_all = []\n",
    "For count in range(round(964/18)):\n",
    "    training_batch = create_batch(training_set, n_shot = 1, k_way = 20, batch_size = 18, picked_k_all)\n",
    "    meta_model_dict = meta_step(meta_model, training_batch, num_inner_epochs = 5, inner_learning_rate = 0.1, meta_learning_rate = 0.1, \n",
    "              loss_func = 'CrossEntropyLoss' )\n",
    "    meta_model.load_state_dict(meta_model_dict)\n",
    "\n",
    "right_percentage = evaluate_model(meta_model, evaluation_set, batch_size = 32, number_of_examples = 15, num_inner_epochs = 10, \n",
    "                   inner_learning_rate = 0.1, \n",
    "                   meta_learning_rate = 0.1, loss_func = 'CrossEntropyLoss' )\n",
    "mean_right = np.mean(right_percentage)\n",
    "    \n",
    "    \n",
    "    \n",
    "    "
   ]
  }
 ],
 "metadata": {
  "kernelspec": {
   "display_name": "Python 3",
   "language": "python",
   "name": "python3"
  }
 },
 "nbformat": 4,
 "nbformat_minor": 2
}
